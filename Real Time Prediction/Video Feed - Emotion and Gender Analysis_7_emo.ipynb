{
 "cells": [
  {
   "cell_type": "code",
   "execution_count": 2,
   "metadata": {},
   "outputs": [],
   "source": [
    "import os\n",
    "import cv2\n",
    "import numpy as np\n",
    "from keras.models import model_from_json\n",
    "from skimage import transform"
   ]
  },
  {
   "cell_type": "code",
   "execution_count": 3,
   "metadata": {},
   "outputs": [
    {
     "name": "stdout",
     "output_type": "stream",
     "text": [
      "WARNING:tensorflow:From C:\\Users\\VR94\\anaconda3\\envs\\tf-gpu-cuda\\lib\\site-packages\\keras\\backend\\tensorflow_backend.py:4070: The name tf.nn.max_pool is deprecated. Please use tf.nn.max_pool2d instead.\n",
      "\n"
     ]
    }
   ],
   "source": [
    "#load model\n",
    "model_emotion = model_from_json(open(\"fer.json\", \"r\").read())\n",
    "model_gender = model_from_json(open(\"gender.json\", \"r\").read())\n",
    "#load weights\n",
    "model_emotion.load_weights(\"fer_wts.h5\")\n",
    "model_gender.load_weights(\"gender_wts.h5\")"
   ]
  },
  {
   "cell_type": "code",
   "execution_count": 4,
   "metadata": {},
   "outputs": [
    {
     "name": "stdout",
     "output_type": "stream",
     "text": [
      "WARNING:tensorflow:From C:\\Users\\VR94\\anaconda3\\envs\\tf-gpu-cuda\\lib\\site-packages\\keras\\backend\\tensorflow_backend.py:422: The name tf.global_variables is deprecated. Please use tf.compat.v1.global_variables instead.\n",
      "\n"
     ]
    },
    {
     "data": {
      "text/plain": [
       "<function destroyAllWindows>"
      ]
     },
     "execution_count": 4,
     "metadata": {},
     "output_type": "execute_result"
    }
   ],
   "source": [
    "face_haar_cascade = cv2.CascadeClassifier(cv2.data.haarcascades + \"haarcascade_frontalface_default.xml\")\n",
    "\n",
    "cap=cv2.VideoCapture(0)\n",
    "\n",
    "while True:\n",
    "    ret,test_img=cap.read() # captures frame and returns boolean value and captured image\n",
    "    if not ret:\n",
    "        continue\n",
    "    color_img = cv2.cvtColor(test_img, cv2.COLOR_BGR2RGB)\n",
    "    gray_img= cv2.cvtColor(test_img, cv2.COLOR_BGR2GRAY)\n",
    "\n",
    "    faces_detected = face_haar_cascade.detectMultiScale(gray_img, 1.03, 10, minSize=(180,180))\n",
    "\n",
    "    for (x,y,w,h) in faces_detected:\n",
    "        cv2.rectangle(test_img,(x-10,y-10),(x+w+10,y+h+10),(255,0,0), thickness=1)\n",
    "        roi_g = gray_img[y-20:y+h+20,x-20:x+w+20] # cropping region of interest i.e. face area from  image\n",
    "        np_image_g = np.array(roi_g).astype('float32')/255\n",
    "        np_image_g = transform.resize(np_image_g, (48, 48, 1))\n",
    "        np_image_g = np.expand_dims(np_image_g, axis=0)\n",
    "\n",
    "        predicted_emotion = model_emotion.predict(np_image_g)\n",
    "        \n",
    "        roi_c = color_img[y-20:y+h+20,x-20:x+w+20] # cropping region of interest i.e. face area from  image\n",
    "        np_image_c = np.array(roi_c).astype('float32')/255\n",
    "        np_image_c = transform.resize(np_image_c, (48, 48, 3))\n",
    "        np_image_c = np.expand_dims(np_image_c, axis=0)\n",
    "        \n",
    "        predicted_gender = model_gender.predict(np_image_c)[0][0]\n",
    "\n",
    "        #find max indexed array\n",
    "        max_index = np.argmax(predicted_emotion[0])\n",
    "        \n",
    "        emotions = ('Angry', 'Disgust', 'Fear', 'Happy', 'Sad', 'Surprise', 'Neutral')\n",
    "        \n",
    "        if predicted_gender > 0.5:\n",
    "            gender = \"F\"\n",
    "        else:\n",
    "            gender = \"M\"\n",
    "        \n",
    "        predicted = emotions[max_index] + ', ' + gender\n",
    "\n",
    "        cv2.putText(test_img, predicted, (int(x-10), int(y-10)), cv2.FONT_HERSHEY_SIMPLEX, .8, (0,0,255), 2)\n",
    "\n",
    "    resized_img = cv2.resize(test_img, (800, 550))\n",
    "    cv2.imshow('Facial emotion analysis ',resized_img)\n",
    "\n",
    "    if cv2.waitKey(10) == ord('q'):#wait until 'q' key is pressed\n",
    "        break\n",
    "\n",
    "cap.release()\n",
    "cv2.destroyAllWindows"
   ]
  },
  {
   "cell_type": "code",
   "execution_count": null,
   "metadata": {},
   "outputs": [],
   "source": []
  },
  {
   "cell_type": "code",
   "execution_count": null,
   "metadata": {},
   "outputs": [],
   "source": []
  }
 ],
 "metadata": {
  "kernelspec": {
   "display_name": "Python 3",
   "language": "python",
   "name": "python3"
  },
  "language_info": {
   "codemirror_mode": {
    "name": "ipython",
    "version": 3
   },
   "file_extension": ".py",
   "mimetype": "text/x-python",
   "name": "python",
   "nbconvert_exporter": "python",
   "pygments_lexer": "ipython3",
   "version": "3.6.10"
  }
 },
 "nbformat": 4,
 "nbformat_minor": 4
}
