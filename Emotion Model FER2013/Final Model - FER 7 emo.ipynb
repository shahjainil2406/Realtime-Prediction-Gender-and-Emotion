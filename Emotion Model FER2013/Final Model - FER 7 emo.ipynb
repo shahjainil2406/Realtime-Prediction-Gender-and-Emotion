{
 "cells": [
  {
   "cell_type": "code",
   "execution_count": 5,
   "metadata": {},
   "outputs": [],
   "source": [
    "import numpy as np\n",
    "import keras\n",
    "from keras.models import Sequential\n",
    "from keras.layers import Conv2D, MaxPooling2D, AveragePooling2D\n",
    "from keras.layers import Dense, Activation, Dropout, Flatten\n",
    "from keras.optimizers import Adam, RMSprop\n",
    "from keras.regularizers import l2\n",
    "from keras.layers.normalization import BatchNormalization\n",
    "from keras.metrics import categorical_crossentropy\n",
    "from keras.preprocessing.image import ImageDataGenerator\n",
    "from keras.preprocessing import image\n",
    "from keras.models import Model\n",
    "from keras.applications import imagenet_utils\n",
    "from sklearn.metrics import confusion_matrix\n",
    "from sklearn.metrics import accuracy_score as asc\n",
    "import matplotlib.pyplot as plt\n",
    "%matplotlib inline"
   ]
  },
  {
   "cell_type": "code",
   "execution_count": 6,
   "metadata": {},
   "outputs": [],
   "source": [
    "train_path = 'FER2013-Data_Extracted_7_emo/train'\n",
    "valid_path = 'FER2013-Data_Extracted_7_emo/valid'\n",
    "test_path = 'FER2013-Data_Extracted_7_emo/test'"
   ]
  },
  {
   "cell_type": "code",
   "execution_count": 7,
   "metadata": {
    "scrolled": true
   },
   "outputs": [
    {
     "name": "stdout",
     "output_type": "stream",
     "text": [
      "Found 28700 images belonging to 7 classes.\n",
      "Found 3500 images belonging to 7 classes.\n",
      "Found 3500 images belonging to 7 classes.\n"
     ]
    }
   ],
   "source": [
    "train_batches = ImageDataGenerator(rescale=1./255, horizontal_flip=True).flow_from_directory(\n",
    "    directory=train_path, target_size=(48,48), color_mode = 'grayscale', batch_size=70)\n",
    "valid_batches = ImageDataGenerator(rescale=1./255).flow_from_directory(\n",
    "    directory=valid_path, target_size=(48,48), color_mode = 'grayscale', batch_size=50)\n",
    "test_batches = ImageDataGenerator(rescale=1./255).flow_from_directory(\n",
    "    directory=test_path, target_size=(48,48), color_mode = 'grayscale', batch_size=50, shuffle=False)"
   ]
  },
  {
   "cell_type": "code",
   "execution_count": 8,
   "metadata": {},
   "outputs": [
    {
     "data": {
      "text/plain": [
       "{'0': 0, '1': 1, '2': 2, '3': 3, '4': 4, '5': 5, '6': 6}"
      ]
     },
     "execution_count": 8,
     "metadata": {},
     "output_type": "execute_result"
    }
   ],
   "source": [
    "test_batches.class_indices"
   ]
  },
  {
   "cell_type": "markdown",
   "metadata": {},
   "source": [
    "(0=Angry, 1=Disgust, 2=Fear, 3=Happy, 4=Sad, 5=Surprise, 6=Neutral)"
   ]
  },
  {
   "cell_type": "markdown",
   "metadata": {},
   "source": [
    "## Conv Net"
   ]
  },
  {
   "cell_type": "code",
   "execution_count": 6,
   "metadata": {},
   "outputs": [
    {
     "name": "stdout",
     "output_type": "stream",
     "text": [
      "WARNING:tensorflow:From C:\\Users\\VR94\\anaconda3\\envs\\tf-gpu-cuda\\lib\\site-packages\\keras\\backend\\tensorflow_backend.py:4070: The name tf.nn.max_pool is deprecated. Please use tf.nn.max_pool2d instead.\n",
      "\n"
     ]
    }
   ],
   "source": [
    "model = Sequential()\n",
    "\n",
    "input_shape = (48,48,1)\n",
    "model.add(Conv2D(32, (5, 5), input_shape=input_shape, activation='relu', padding='same'))\n",
    "model.add(Conv2D(64, (5, 5), activation='relu', padding='same'))\n",
    "model.add(BatchNormalization())\n",
    "model.add(MaxPooling2D(pool_size=(2, 2)))\n",
    "\n",
    "model.add(Conv2D(128, (3, 3),activation='relu',padding='same'))\n",
    "model.add(Dropout(rate = 0.1))\n",
    "model.add(BatchNormalization())\n",
    "model.add(MaxPooling2D(pool_size=(2, 2)))\n",
    "\n",
    "model.add(Flatten())\n",
    "model.add(Dense(units = 1024, activation = 'relu', kernel_regularizer = l2(0.0001)))\n",
    "model.add(BatchNormalization())\n",
    "model.add(Dropout(0.5))\n",
    "\n",
    "model.add(Dense(units = 512, activation = 'relu', kernel_regularizer = l2(0.0001)))\n",
    "model.add(BatchNormalization())\n",
    "model.add(Dropout(0.5))\n",
    "\n",
    "model.add(Dense(units = 256, activation = 'relu', kernel_regularizer = l2(0.0001)))\n",
    "model.add(BatchNormalization())\n",
    "model.add(Dropout(0.5))\n",
    "\n",
    "model.add(Dense(7))\n",
    "model.add(Activation('softmax'))"
   ]
  },
  {
   "cell_type": "code",
   "execution_count": 7,
   "metadata": {},
   "outputs": [
    {
     "name": "stdout",
     "output_type": "stream",
     "text": [
      "Model: \"sequential_1\"\n",
      "_________________________________________________________________\n",
      "Layer (type)                 Output Shape              Param #   \n",
      "=================================================================\n",
      "conv2d_1 (Conv2D)            (None, 48, 48, 32)        832       \n",
      "_________________________________________________________________\n",
      "conv2d_2 (Conv2D)            (None, 48, 48, 64)        51264     \n",
      "_________________________________________________________________\n",
      "batch_normalization_1 (Batch (None, 48, 48, 64)        256       \n",
      "_________________________________________________________________\n",
      "max_pooling2d_1 (MaxPooling2 (None, 24, 24, 64)        0         \n",
      "_________________________________________________________________\n",
      "conv2d_3 (Conv2D)            (None, 24, 24, 128)       73856     \n",
      "_________________________________________________________________\n",
      "dropout_1 (Dropout)          (None, 24, 24, 128)       0         \n",
      "_________________________________________________________________\n",
      "batch_normalization_2 (Batch (None, 24, 24, 128)       512       \n",
      "_________________________________________________________________\n",
      "max_pooling2d_2 (MaxPooling2 (None, 12, 12, 128)       0         \n",
      "_________________________________________________________________\n",
      "flatten_1 (Flatten)          (None, 18432)             0         \n",
      "_________________________________________________________________\n",
      "dense_1 (Dense)              (None, 1024)              18875392  \n",
      "_________________________________________________________________\n",
      "batch_normalization_3 (Batch (None, 1024)              4096      \n",
      "_________________________________________________________________\n",
      "dropout_2 (Dropout)          (None, 1024)              0         \n",
      "_________________________________________________________________\n",
      "dense_2 (Dense)              (None, 512)               524800    \n",
      "_________________________________________________________________\n",
      "batch_normalization_4 (Batch (None, 512)               2048      \n",
      "_________________________________________________________________\n",
      "dropout_3 (Dropout)          (None, 512)               0         \n",
      "_________________________________________________________________\n",
      "dense_3 (Dense)              (None, 256)               131328    \n",
      "_________________________________________________________________\n",
      "batch_normalization_5 (Batch (None, 256)               1024      \n",
      "_________________________________________________________________\n",
      "dropout_4 (Dropout)          (None, 256)               0         \n",
      "_________________________________________________________________\n",
      "dense_4 (Dense)              (None, 7)                 1799      \n",
      "_________________________________________________________________\n",
      "activation_1 (Activation)    (None, 7)                 0         \n",
      "=================================================================\n",
      "Total params: 19,667,207\n",
      "Trainable params: 19,663,239\n",
      "Non-trainable params: 3,968\n",
      "_________________________________________________________________\n"
     ]
    }
   ],
   "source": [
    "model.summary()"
   ]
  },
  {
   "cell_type": "markdown",
   "metadata": {},
   "source": [
    "^^Note the number of trainable parameters"
   ]
  },
  {
   "cell_type": "markdown",
   "metadata": {},
   "source": [
    "## Compile and Train"
   ]
  },
  {
   "cell_type": "code",
   "execution_count": 8,
   "metadata": {},
   "outputs": [],
   "source": [
    "model.compile(optimizer=Adam(lr=0.0001), loss='categorical_crossentropy', metrics=['accuracy'])"
   ]
  },
  {
   "cell_type": "code",
   "execution_count": 9,
   "metadata": {
    "scrolled": true
   },
   "outputs": [
    {
     "name": "stdout",
     "output_type": "stream",
     "text": [
      "WARNING:tensorflow:From C:\\Users\\VR94\\anaconda3\\envs\\tf-gpu-cuda\\lib\\site-packages\\keras\\backend\\tensorflow_backend.py:422: The name tf.global_variables is deprecated. Please use tf.compat.v1.global_variables instead.\n",
      "\n",
      "Epoch 1/50\n",
      " - 265s - loss: 2.9863 - accuracy: 0.2117 - val_loss: 2.3148 - val_accuracy: 0.2277\n",
      "Epoch 2/50\n",
      " - 259s - loss: 2.5969 - accuracy: 0.2844 - val_loss: 1.9462 - val_accuracy: 0.3540\n",
      "Epoch 3/50\n",
      " - 257s - loss: 2.3496 - accuracy: 0.3285 - val_loss: 1.7181 - val_accuracy: 0.4017\n",
      "Epoch 4/50\n",
      " - 259s - loss: 2.2056 - accuracy: 0.3569 - val_loss: 1.6949 - val_accuracy: 0.4103\n",
      "Epoch 5/50\n",
      " - 257s - loss: 2.0872 - accuracy: 0.3793 - val_loss: 1.8895 - val_accuracy: 0.4351\n",
      "Epoch 6/50\n",
      " - 259s - loss: 1.9741 - accuracy: 0.4029 - val_loss: 1.6915 - val_accuracy: 0.4714\n",
      "Epoch 7/50\n",
      " - 257s - loss: 1.8967 - accuracy: 0.4225 - val_loss: 1.5848 - val_accuracy: 0.4509\n",
      "Epoch 8/50\n",
      " - 259s - loss: 1.8200 - accuracy: 0.4388 - val_loss: 1.8435 - val_accuracy: 0.4523\n",
      "Epoch 9/50\n",
      " - 257s - loss: 1.7446 - accuracy: 0.4599 - val_loss: 1.6256 - val_accuracy: 0.4911\n",
      "Epoch 10/50\n",
      " - 259s - loss: 1.6843 - accuracy: 0.4815 - val_loss: 1.3806 - val_accuracy: 0.4911\n",
      "Epoch 11/50\n",
      " - 257s - loss: 1.6261 - accuracy: 0.5000 - val_loss: 1.5802 - val_accuracy: 0.5006\n",
      "Epoch 12/50\n",
      " - 259s - loss: 1.5752 - accuracy: 0.5192 - val_loss: 1.6810 - val_accuracy: 0.5051\n",
      "Epoch 13/50\n",
      " - 257s - loss: 1.5341 - accuracy: 0.5384 - val_loss: 1.3414 - val_accuracy: 0.5386\n",
      "Epoch 14/50\n",
      " - 259s - loss: 1.4872 - accuracy: 0.5540 - val_loss: 1.6144 - val_accuracy: 0.5286\n",
      "Epoch 15/50\n",
      " - 257s - loss: 1.4467 - accuracy: 0.5667 - val_loss: 1.5446 - val_accuracy: 0.5306\n",
      "Epoch 16/50\n",
      " - 259s - loss: 1.3993 - accuracy: 0.5881 - val_loss: 1.5442 - val_accuracy: 0.5446\n",
      "Epoch 17/50\n",
      " - 257s - loss: 1.3550 - accuracy: 0.6052 - val_loss: 1.5497 - val_accuracy: 0.5294\n",
      "Epoch 18/50\n",
      " - 259s - loss: 1.2954 - accuracy: 0.6249 - val_loss: 1.5350 - val_accuracy: 0.5506\n",
      "Epoch 19/50\n",
      " - 257s - loss: 1.2515 - accuracy: 0.6405 - val_loss: 1.4045 - val_accuracy: 0.5480\n",
      "Epoch 20/50\n",
      " - 259s - loss: 1.2035 - accuracy: 0.6633 - val_loss: 1.5739 - val_accuracy: 0.5417\n",
      "Epoch 21/50\n",
      " - 257s - loss: 1.1498 - accuracy: 0.6822 - val_loss: 1.6736 - val_accuracy: 0.5594\n",
      "Epoch 22/50\n",
      " - 259s - loss: 1.1034 - accuracy: 0.7027 - val_loss: 1.5129 - val_accuracy: 0.5520\n",
      "Epoch 23/50\n",
      " - 257s - loss: 1.0492 - accuracy: 0.7219 - val_loss: 1.4030 - val_accuracy: 0.5457\n",
      "Epoch 24/50\n",
      " - 259s - loss: 0.9909 - accuracy: 0.7455 - val_loss: 1.4158 - val_accuracy: 0.5723\n",
      "Epoch 25/50\n",
      " - 257s - loss: 0.9482 - accuracy: 0.7632 - val_loss: 1.5316 - val_accuracy: 0.5626\n",
      "Epoch 26/50\n",
      " - 259s - loss: 0.8953 - accuracy: 0.7818 - val_loss: 1.3704 - val_accuracy: 0.5511\n",
      "Epoch 27/50\n",
      " - 257s - loss: 0.8455 - accuracy: 0.8008 - val_loss: 1.4738 - val_accuracy: 0.5640\n",
      "Epoch 28/50\n",
      " - 259s - loss: 0.8121 - accuracy: 0.8123 - val_loss: 1.6799 - val_accuracy: 0.5643\n",
      "Epoch 29/50\n",
      " - 257s - loss: 0.7692 - accuracy: 0.8309 - val_loss: 2.2677 - val_accuracy: 0.5620\n",
      "Epoch 30/50\n",
      " - 259s - loss: 0.7228 - accuracy: 0.8468 - val_loss: 1.9039 - val_accuracy: 0.5589\n",
      "Epoch 31/50\n",
      " - 257s - loss: 0.6972 - accuracy: 0.8585 - val_loss: 1.8554 - val_accuracy: 0.5577\n",
      "Epoch 32/50\n",
      " - 259s - loss: 0.6775 - accuracy: 0.8659 - val_loss: 1.4333 - val_accuracy: 0.5583\n",
      "Epoch 33/50\n",
      " - 257s - loss: 0.6518 - accuracy: 0.8747 - val_loss: 1.0136 - val_accuracy: 0.5643\n",
      "Epoch 34/50\n",
      " - 259s - loss: 0.6191 - accuracy: 0.8890 - val_loss: 1.7268 - val_accuracy: 0.5677\n",
      "Epoch 35/50\n",
      " - 257s - loss: 0.6047 - accuracy: 0.8956 - val_loss: 2.0141 - val_accuracy: 0.5526\n",
      "Epoch 36/50\n",
      " - 259s - loss: 0.5889 - accuracy: 0.9014 - val_loss: 2.0273 - val_accuracy: 0.5723\n",
      "Epoch 37/50\n",
      " - 257s - loss: 0.5773 - accuracy: 0.9070 - val_loss: 2.5774 - val_accuracy: 0.5503\n",
      "Epoch 38/50\n",
      " - 259s - loss: 0.5584 - accuracy: 0.9140 - val_loss: 2.3230 - val_accuracy: 0.5709\n",
      "Epoch 39/50\n",
      " - 257s - loss: 0.5542 - accuracy: 0.9179 - val_loss: 2.1720 - val_accuracy: 0.5671\n",
      "Epoch 40/50\n",
      " - 259s - loss: 0.5405 - accuracy: 0.9227 - val_loss: 2.3142 - val_accuracy: 0.5660\n",
      "Epoch 41/50\n",
      " - 257s - loss: 0.5323 - accuracy: 0.9268 - val_loss: 1.8757 - val_accuracy: 0.5603\n",
      "Epoch 42/50\n",
      " - 259s - loss: 0.5296 - accuracy: 0.9279 - val_loss: 2.0192 - val_accuracy: 0.5674\n",
      "Epoch 43/50\n",
      " - 257s - loss: 0.5252 - accuracy: 0.9288 - val_loss: 2.0197 - val_accuracy: 0.5669\n",
      "Epoch 44/50\n",
      " - 259s - loss: 0.5210 - accuracy: 0.9336 - val_loss: 2.7791 - val_accuracy: 0.5686\n",
      "Epoch 45/50\n",
      " - 257s - loss: 0.5103 - accuracy: 0.9373 - val_loss: 2.7268 - val_accuracy: 0.5774\n",
      "Epoch 46/50\n",
      " - 259s - loss: 0.5024 - accuracy: 0.9402 - val_loss: 2.2003 - val_accuracy: 0.5677\n",
      "Epoch 47/50\n",
      " - 257s - loss: 0.5011 - accuracy: 0.9409 - val_loss: 2.5303 - val_accuracy: 0.5686\n",
      "Epoch 48/50\n",
      " - 259s - loss: 0.5031 - accuracy: 0.9406 - val_loss: 3.2664 - val_accuracy: 0.5694\n",
      "Epoch 49/50\n",
      " - 257s - loss: 0.4892 - accuracy: 0.9472 - val_loss: 2.8520 - val_accuracy: 0.5751\n",
      "Epoch 50/50\n",
      " - 259s - loss: 0.4964 - accuracy: 0.9440 - val_loss: 2.4844 - val_accuracy: 0.5643\n",
      "Wall time: 3h 35min 11s\n"
     ]
    }
   ],
   "source": [
    "%%time\n",
    "H = model.fit_generator(generator=train_batches, steps_per_epoch=410, \n",
    "    validation_data=valid_batches, validation_steps=70, epochs=50, verbose=2)"
   ]
  },
  {
   "cell_type": "markdown",
   "metadata": {},
   "source": [
    "## Plot Graph"
   ]
  },
  {
   "cell_type": "code",
   "execution_count": 10,
   "metadata": {},
   "outputs": [
    {
     "data": {
      "image/png": "[encoded data removed]",
      "text/plain": [
       "<Figure size 720x432 with 1 Axes>"
      ]
     },
     "metadata": {},
     "output_type": "display_data"
    }
   ],
   "source": [
    "epochs = 50\n",
    "\n",
    "plt.style.use(\"ggplot\")\n",
    "plt.figure(figsize=(10,6))\n",
    "plt.plot(np.arange(0, epochs), H.history[\"loss\"], label=\"train_loss\", color='r')\n",
    "plt.plot(np.arange(0, epochs), H.history[\"val_loss\"], label=\"val_loss\", color='orange')\n",
    "plt.plot(np.arange(0, epochs), H.history[\"accuracy\"], label=\"train_acc\", color='b')\n",
    "plt.plot(np.arange(0, epochs), H.history[\"val_accuracy\"], label=\"val_acc\", color='green')\n",
    "plt.title(\"Training Loss and Accuracy\")\n",
    "plt.xlabel(\"Epochs\")\n",
    "plt.ylabel(\"Loss/Accuracy\")\n",
    "plt.legend(loc=\"upper right\")\n",
    "\n",
    "plt.savefig(\"plot.png\")"
   ]
  },
  {
   "cell_type": "markdown",
   "metadata": {},
   "source": [
    "## Testing"
   ]
  },
  {
   "cell_type": "code",
   "execution_count": 12,
   "metadata": {},
   "outputs": [],
   "source": [
    "test_labels = test_batches.classes"
   ]
  },
  {
   "cell_type": "code",
   "execution_count": 13,
   "metadata": {},
   "outputs": [
    {
     "data": {
      "text/plain": [
       "array([0, 0, 0, ..., 6, 6, 6])"
      ]
     },
     "execution_count": 13,
     "metadata": {},
     "output_type": "execute_result"
    }
   ],
   "source": [
    "test_labels"
   ]
  },
  {
   "cell_type": "code",
   "execution_count": 14,
   "metadata": {},
   "outputs": [
    {
     "name": "stdout",
     "output_type": "stream",
     "text": [
      "WARNING:tensorflow:From C:\\Users\\VR94\\anaconda3\\envs\\tf-gpu-cuda\\lib\\site-packages\\keras\\backend\\tensorflow_backend.py:422: The name tf.global_variables is deprecated. Please use tf.compat.v1.global_variables instead.\n",
      "\n"
     ]
    }
   ],
   "source": [
    "predictions = model.predict_generator(generator=test_batches, steps=70, verbose=0)"
   ]
  },
  {
   "cell_type": "code",
   "execution_count": 15,
   "metadata": {},
   "outputs": [
    {
     "data": {
      "text/plain": [
       "array([6, 3, 6, ..., 6, 2, 6], dtype=int64)"
      ]
     },
     "execution_count": 15,
     "metadata": {},
     "output_type": "execute_result"
    }
   ],
   "source": [
    "predictions.argmax(axis=1)"
   ]
  },
  {
   "cell_type": "code",
   "execution_count": 16,
   "metadata": {},
   "outputs": [
    {
     "name": "stdout",
     "output_type": "stream",
     "text": [
      "Confusion Matrix:\n",
      "[[223   0  46  34 102   6  80]\n",
      " [ 14  25   2   1   6   2   5]\n",
      " [ 56   1 186  24 164  28  69]\n",
      " [ 24   0  21 612  79   7  47]\n",
      " [ 57   1  40  48 334   5 109]\n",
      " [ 18   1  43  23  31 272  28]\n",
      " [ 39   0  22  40 138   2 385]]\n",
      "\n",
      "Accuracy:0.582\n"
     ]
    }
   ],
   "source": [
    "cm = confusion_matrix(y_true=test_labels, y_pred=predictions.argmax(axis=1))\n",
    "print(f\"Confusion Matrix:\\n{cm}\")\n",
    "accuracy = asc(y_true=test_labels, y_pred=predictions.argmax(axis=1))\n",
    "print(f\"\\nAccuracy:{accuracy}\")"
   ]
  },
  {
   "cell_type": "markdown",
   "metadata": {},
   "source": [
    "## Saving Model"
   ]
  },
  {
   "cell_type": "code",
   "execution_count": 17,
   "metadata": {},
   "outputs": [],
   "source": [
    "fer_json = model.to_json()\n",
    "with open(\"fer.json\",\"w\") as json_file:\n",
    "    json_file.write(fer_json)\n",
    "model.save_weights(\"fer_wts.h5\")"
   ]
  },
  {
   "cell_type": "markdown",
   "metadata": {},
   "source": [
    "## Load and Predict"
   ]
  },
  {
   "cell_type": "code",
   "execution_count": 4,
   "metadata": {},
   "outputs": [],
   "source": [
    "from keras.models import model_from_json"
   ]
  },
  {
   "cell_type": "code",
   "execution_count": 9,
   "metadata": {},
   "outputs": [
    {
     "name": "stdout",
     "output_type": "stream",
     "text": [
      "WARNING:tensorflow:From C:\\Users\\VR94\\anaconda3\\envs\\tf-gpu-cuda\\lib\\site-packages\\keras\\backend\\tensorflow_backend.py:4070: The name tf.nn.max_pool is deprecated. Please use tf.nn.max_pool2d instead.\n",
      "\n"
     ]
    }
   ],
   "source": [
    "model = model_from_json(open(\"fer.json\", \"r\").read())"
   ]
  },
  {
   "cell_type": "code",
   "execution_count": 10,
   "metadata": {},
   "outputs": [],
   "source": [
    "model.load_weights(\"fer_wts.h5\")"
   ]
  },
  {
   "cell_type": "code",
   "execution_count": 24,
   "metadata": {},
   "outputs": [
    {
     "data": {
      "text/plain": [
       "array([[8.8984927e-04, 7.9114789e-06, 4.1089043e-02, 1.7840829e-02,\n",
       "        9.0079165e-01, 3.9214700e-02, 1.6605313e-04]], dtype=float32)"
      ]
     },
     "execution_count": 24,
     "metadata": {},
     "output_type": "execute_result"
    }
   ],
   "source": [
    "from PIL import Image\n",
    "from skimage import transform\n",
    "def load(filename):\n",
    "    np_image = Image.open(filename)\n",
    "    np_image = np.array(np_image).astype('float32')\n",
    "    np_image = transform.resize(np_image, (48, 48, 1))\n",
    "    np_image = np.expand_dims(np_image, axis=0)\n",
    "    return np_image\n",
    "\n",
    "image = load('test3.jpg')\n",
    "x = model.predict(image)\n",
    "x"
   ]
  },
  {
   "cell_type": "markdown",
   "metadata": {},
   "source": [
    "## Confusion Matrix Visualization"
   ]
  },
  {
   "cell_type": "code",
   "execution_count": 1,
   "metadata": {},
   "outputs": [],
   "source": [
    "import matplotlib.pyplot as plt\n",
    "import numpy as np\n",
    "import itertools\n",
    "\n",
    "from sklearn.metrics import confusion_matrix"
   ]
  },
  {
   "cell_type": "code",
   "execution_count": 2,
   "metadata": {},
   "outputs": [],
   "source": [
    "def plot_confusion_matrix(cm, classes, normalize=False, title='Confusion matrix', cmap=plt.cm.Blues):\n",
    "    if normalize:\n",
    "        cm = cm.astype('float') / cm.sum(axis=1)[:, np.newaxis]\n",
    "        print(\"Normalized confusion matrix\")\n",
    "    else:\n",
    "        print('Confusion matrix, without normalization')\n",
    "\n",
    "    print(cm)\n",
    "    plt.imshow(cm, interpolation='nearest', cmap=cmap)\n",
    "    plt.title(title)\n",
    "    plt.colorbar()\n",
    "    tick_marks = np.arange(len(classes))\n",
    "    plt.xticks(tick_marks, classes, rotation=45)\n",
    "    plt.yticks(tick_marks, classes)\n",
    "\n",
    "    fmt = '.2f' if normalize else 'd'\n",
    "    thresh = cm.max() / 2.\n",
    "    for i, j in itertools.product(range(cm.shape[0]), range(cm.shape[1])):\n",
    "        plt.text(j, i, format(cm[i, j], fmt), horizontalalignment=\"center\", color=\"white\" if cm[i, j] > thresh else \"black\")\n",
    "\n",
    "    plt.tight_layout()\n",
    "    plt.ylabel('True label')\n",
    "    plt.xlabel('Predicted label')"
   ]
  },
  {
   "cell_type": "code",
   "execution_count": 17,
   "metadata": {},
   "outputs": [],
   "source": [
    "cm = confusion_matrix(test_labels, predictions.argmax(axis=1))"
   ]
  },
  {
   "cell_type": "code",
   "execution_count": 19,
   "metadata": {},
   "outputs": [
    {
     "name": "stdout",
     "output_type": "stream",
     "text": [
      "Normalized confusion matrix\n",
      "[[0.45417515 0.         0.09368635 0.06924644 0.20773931 0.01221996\n",
      "  0.16293279]\n",
      " [0.25454545 0.45454545 0.03636364 0.01818182 0.10909091 0.03636364\n",
      "  0.09090909]\n",
      " [0.10606061 0.00189394 0.35227273 0.04545455 0.31060606 0.0530303\n",
      "  0.13068182]\n",
      " [0.03037975 0.         0.02658228 0.77468354 0.1        0.00886076\n",
      "  0.05949367]\n",
      " [0.0959596  0.0016835  0.06734007 0.08080808 0.56228956 0.00841751\n",
      "  0.18350168]\n",
      " [0.04326923 0.00240385 0.10336538 0.05528846 0.07451923 0.65384615\n",
      "  0.06730769]\n",
      " [0.06230032 0.         0.03514377 0.06389776 0.22044728 0.00319489\n",
      "  0.61501597]]\n"
     ]
    },
    {
     "data": {
      "image/png": "[encoded data removed]",
      "text/plain": [
       "<Figure size 504x504 with 2 Axes>"
      ]
     },
     "metadata": {
      "needs_background": "light"
     },
     "output_type": "display_data"
    }
   ],
   "source": [
    "names = ('Angry','Disgust','Fear','Happy','Sad','Surprise','Neutral')\n",
    "\n",
    "plt.figure(figsize=(7,7))\n",
    "plot_confusion_matrix(cm, names, normalize=True)"
   ]
  },
  {
   "cell_type": "code",
   "execution_count": null,
   "metadata": {},
   "outputs": [],
   "source": []
  }
 ],
 "metadata": {
  "kernelspec": {
   "display_name": "Python 3",
   "language": "python",
   "name": "python3"
  },
  "language_info": {
   "codemirror_mode": {
    "name": "ipython",
    "version": 3
   },
   "file_extension": ".py",
   "mimetype": "text/x-python",
   "name": "python",
   "nbconvert_exporter": "python",
   "pygments_lexer": "ipython3",
   "version": "3.7.6"
  }
 },
 "nbformat": 4,
 "nbformat_minor": 4
}
