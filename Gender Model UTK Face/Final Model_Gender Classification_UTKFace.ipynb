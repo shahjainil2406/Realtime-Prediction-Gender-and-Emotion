{
 "cells": [
  {
   "cell_type": "code",
   "execution_count": 2,
   "metadata": {},
   "outputs": [],
   "source": [
    "import numpy as np\n",
    "import keras\n",
    "from keras.models import Sequential\n",
    "from keras.layers import Conv2D, MaxPooling2D, AveragePooling2D\n",
    "from keras.layers import Dense, Activation, Dropout, Flatten\n",
    "from keras.optimizers import Adam\n",
    "from keras.regularizers import l2\n",
    "from keras.layers.normalization import BatchNormalization\n",
    "from keras.metrics import categorical_crossentropy\n",
    "from keras.preprocessing.image import ImageDataGenerator\n",
    "from keras.preprocessing import image\n",
    "from keras.models import Model\n",
    "from keras.applications import imagenet_utils\n",
    "from sklearn.metrics import confusion_matrix\n",
    "from sklearn.metrics import accuracy_score as asc\n",
    "import matplotlib.pyplot as plt\n",
    "%matplotlib inline"
   ]
  },
  {
   "cell_type": "code",
   "execution_count": 3,
   "metadata": {},
   "outputs": [],
   "source": [
    "train_path = 'Data/train'\n",
    "valid_path = 'Data/valid'\n",
    "test_path = 'Data/test'"
   ]
  },
  {
   "cell_type": "code",
   "execution_count": 4,
   "metadata": {},
   "outputs": [
    {
     "name": "stdout",
     "output_type": "stream",
     "text": [
      "Found 21200 images belonging to 2 classes.\n",
      "Found 400 images belonging to 2 classes.\n",
      "Found 200 images belonging to 2 classes.\n"
     ]
    }
   ],
   "source": [
    "train_batches = ImageDataGenerator(rescale=1./255, horizontal_flip=True).flow_from_directory(\n",
    "    directory=train_path, target_size=(48,48), batch_size=50)\n",
    "valid_batches = ImageDataGenerator(rescale=1./255).flow_from_directory(\n",
    "    directory=valid_path, target_size=(48,48), batch_size=20)\n",
    "test_batches = ImageDataGenerator(rescale=1./255).flow_from_directory(\n",
    "    directory=test_path, target_size=(48,48), batch_size=20, shuffle=False)"
   ]
  },
  {
   "cell_type": "code",
   "execution_count": 5,
   "metadata": {},
   "outputs": [
    {
     "data": {
      "text/plain": [
       "{'female': 0, 'male': 1}"
      ]
     },
     "execution_count": 5,
     "metadata": {},
     "output_type": "execute_result"
    }
   ],
   "source": [
    "test_batches.class_indices"
   ]
  },
  {
   "cell_type": "markdown",
   "metadata": {},
   "source": [
    "## Conv Net"
   ]
  },
  {
   "cell_type": "code",
   "execution_count": 6,
   "metadata": {},
   "outputs": [
    {
     "name": "stdout",
     "output_type": "stream",
     "text": [
      "WARNING:tensorflow:From C:\\Users\\VR94\\anaconda3\\envs\\tf-gpu-cuda\\lib\\site-packages\\keras\\backend\\tensorflow_backend.py:4070: The name tf.nn.max_pool is deprecated. Please use tf.nn.max_pool2d instead.\n",
      "\n"
     ]
    }
   ],
   "source": [
    "model = Sequential()\n",
    "\n",
    "input_shape = (48,48,3)\n",
    "model.add(Conv2D(32, (5, 5), input_shape=input_shape, activation='relu', padding='same'))\n",
    "model.add(Conv2D(64, (5, 5), activation='relu', padding='same'))\n",
    "model.add(BatchNormalization())\n",
    "model.add(MaxPooling2D(pool_size=(2, 2)))\n",
    "\n",
    "model.add(Conv2D(128, (3, 3),activation='relu',padding='same'))\n",
    "model.add(Dropout(rate = 0.1))\n",
    "model.add(BatchNormalization())\n",
    "model.add(MaxPooling2D(pool_size=(2, 2)))\n",
    "\n",
    "model.add(Flatten())\n",
    "model.add(Dense(units = 256, activation = 'relu', kernel_regularizer = l2(0.0001)))\n",
    "model.add(BatchNormalization())\n",
    "model.add(Dropout(0.3))\n",
    "\n",
    "model.add(Dense(units = 128, activation = 'relu', kernel_regularizer = l2(0.0001)))\n",
    "model.add(BatchNormalization())\n",
    "model.add(Dropout(0.3))\n",
    "\n",
    "model.add(Dense(units = 64, activation = 'relu', kernel_regularizer = l2(0.0001)))\n",
    "model.add(BatchNormalization())\n",
    "model.add(Dropout(0.2))\n",
    "\n",
    "model.add(Dense(2))\n",
    "model.add(Activation('softmax'))"
   ]
  },
  {
   "cell_type": "code",
   "execution_count": 25,
   "metadata": {},
   "outputs": [
    {
     "name": "stdout",
     "output_type": "stream",
     "text": [
      "Model: \"sequential_2\"\n",
      "_________________________________________________________________\n",
      "Layer (type)                 Output Shape              Param #   \n",
      "=================================================================\n",
      "conv2d_4 (Conv2D)            (None, 48, 48, 32)        2432      \n",
      "_________________________________________________________________\n",
      "conv2d_5 (Conv2D)            (None, 48, 48, 64)        51264     \n",
      "_________________________________________________________________\n",
      "batch_normalization_6 (Batch (None, 48, 48, 64)        256       \n",
      "_________________________________________________________________\n",
      "max_pooling2d_3 (MaxPooling2 (None, 24, 24, 64)        0         \n",
      "_________________________________________________________________\n",
      "conv2d_6 (Conv2D)            (None, 24, 24, 128)       73856     \n",
      "_________________________________________________________________\n",
      "dropout_5 (Dropout)          (None, 24, 24, 128)       0         \n",
      "_________________________________________________________________\n",
      "batch_normalization_7 (Batch (None, 24, 24, 128)       512       \n",
      "_________________________________________________________________\n",
      "max_pooling2d_4 (MaxPooling2 (None, 12, 12, 128)       0         \n",
      "_________________________________________________________________\n",
      "flatten_2 (Flatten)          (None, 18432)             0         \n",
      "_________________________________________________________________\n",
      "dense_5 (Dense)              (None, 256)               4718848   \n",
      "_________________________________________________________________\n",
      "batch_normalization_8 (Batch (None, 256)               1024      \n",
      "_________________________________________________________________\n",
      "dropout_6 (Dropout)          (None, 256)               0         \n",
      "_________________________________________________________________\n",
      "dense_6 (Dense)              (None, 128)               32896     \n",
      "_________________________________________________________________\n",
      "batch_normalization_9 (Batch (None, 128)               512       \n",
      "_________________________________________________________________\n",
      "dropout_7 (Dropout)          (None, 128)               0         \n",
      "_________________________________________________________________\n",
      "dense_7 (Dense)              (None, 64)                8256      \n",
      "_________________________________________________________________\n",
      "batch_normalization_10 (Batc (None, 64)                256       \n",
      "_________________________________________________________________\n",
      "dropout_8 (Dropout)          (None, 64)                0         \n",
      "_________________________________________________________________\n",
      "dense_8 (Dense)              (None, 2)                 130       \n",
      "_________________________________________________________________\n",
      "activation_2 (Activation)    (None, 2)                 0         \n",
      "=================================================================\n",
      "Total params: 4,890,242\n",
      "Trainable params: 4,888,962\n",
      "Non-trainable params: 1,280\n",
      "_________________________________________________________________\n"
     ]
    }
   ],
   "source": [
    "model.summary()"
   ]
  },
  {
   "cell_type": "markdown",
   "metadata": {},
   "source": [
    "^^Note the number of trainable parameters"
   ]
  },
  {
   "cell_type": "markdown",
   "metadata": {},
   "source": [
    "## Compile and Train"
   ]
  },
  {
   "cell_type": "code",
   "execution_count": 18,
   "metadata": {},
   "outputs": [],
   "source": [
    "model.compile(optimizer=Adam(lr=0.0001), loss='categorical_crossentropy', metrics=['accuracy'])"
   ]
  },
  {
   "cell_type": "code",
   "execution_count": 19,
   "metadata": {},
   "outputs": [
    {
     "name": "stdout",
     "output_type": "stream",
     "text": [
      "Epoch 1/30\n",
      " - 138s - loss: 0.5194 - accuracy: 0.8097 - val_loss: 0.8276 - val_accuracy: 0.6375\n",
      "Epoch 2/30\n",
      " - 133s - loss: 0.3928 - accuracy: 0.8739 - val_loss: 0.1919 - val_accuracy: 0.9325\n",
      "Epoch 3/30\n",
      " - 133s - loss: 0.3439 - accuracy: 0.8947 - val_loss: 0.0945 - val_accuracy: 0.9425\n",
      "Epoch 4/30\n",
      " - 133s - loss: 0.3138 - accuracy: 0.9097 - val_loss: 0.3640 - val_accuracy: 0.9250\n",
      "Epoch 5/30\n",
      " - 133s - loss: 0.3013 - accuracy: 0.9134 - val_loss: 0.6403 - val_accuracy: 0.9375\n",
      "Epoch 6/30\n",
      " - 133s - loss: 0.2830 - accuracy: 0.9217 - val_loss: 0.2870 - val_accuracy: 0.9325\n",
      "Epoch 7/30\n",
      " - 133s - loss: 0.2694 - accuracy: 0.9287 - val_loss: 0.3349 - val_accuracy: 0.9325\n",
      "Epoch 8/30\n",
      " - 133s - loss: 0.2571 - accuracy: 0.9334 - val_loss: 0.3258 - val_accuracy: 0.9525\n",
      "Epoch 9/30\n",
      " - 133s - loss: 0.2425 - accuracy: 0.9397 - val_loss: 0.2654 - val_accuracy: 0.9425\n",
      "Epoch 10/30\n",
      " - 133s - loss: 0.2380 - accuracy: 0.9411 - val_loss: 0.1060 - val_accuracy: 0.9650\n",
      "Epoch 11/30\n",
      " - 133s - loss: 0.2262 - accuracy: 0.9449 - val_loss: 0.1384 - val_accuracy: 0.9550\n",
      "Epoch 12/30\n",
      " - 133s - loss: 0.2212 - accuracy: 0.9482 - val_loss: 0.2557 - val_accuracy: 0.9625\n",
      "Epoch 13/30\n",
      " - 133s - loss: 0.2056 - accuracy: 0.9556 - val_loss: 0.1631 - val_accuracy: 0.9575\n",
      "Epoch 14/30\n",
      " - 133s - loss: 0.2049 - accuracy: 0.9525 - val_loss: 0.1108 - val_accuracy: 0.9625\n",
      "Epoch 15/30\n",
      " - 133s - loss: 0.2009 - accuracy: 0.9536 - val_loss: 0.1637 - val_accuracy: 0.9725\n",
      "Epoch 16/30\n",
      " - 133s - loss: 0.1856 - accuracy: 0.9604 - val_loss: 0.0997 - val_accuracy: 0.9650\n",
      "Epoch 17/30\n",
      " - 133s - loss: 0.1838 - accuracy: 0.9603 - val_loss: 0.1364 - val_accuracy: 0.9650\n",
      "Epoch 18/30\n",
      " - 133s - loss: 0.1759 - accuracy: 0.9629 - val_loss: 0.1964 - val_accuracy: 0.9550\n",
      "Epoch 19/30\n",
      " - 133s - loss: 0.1655 - accuracy: 0.9656 - val_loss: 0.1077 - val_accuracy: 0.9525\n",
      "Epoch 20/30\n",
      " - 133s - loss: 0.1613 - accuracy: 0.9675 - val_loss: 0.0988 - val_accuracy: 0.9650\n",
      "Epoch 21/30\n",
      " - 133s - loss: 0.1537 - accuracy: 0.9694 - val_loss: 0.2109 - val_accuracy: 0.9625\n",
      "Epoch 22/30\n",
      " - 133s - loss: 0.1547 - accuracy: 0.9691 - val_loss: 0.1119 - val_accuracy: 0.9625\n",
      "Epoch 23/30\n",
      " - 133s - loss: 0.1451 - accuracy: 0.9730 - val_loss: 0.1960 - val_accuracy: 0.9550\n",
      "Epoch 24/30\n",
      " - 133s - loss: 0.1409 - accuracy: 0.9737 - val_loss: 0.0868 - val_accuracy: 0.9550\n",
      "Epoch 25/30\n",
      " - 133s - loss: 0.1328 - accuracy: 0.9760 - val_loss: 0.0973 - val_accuracy: 0.9550\n",
      "Epoch 26/30\n",
      " - 133s - loss: 0.1310 - accuracy: 0.9761 - val_loss: 0.1044 - val_accuracy: 0.9575\n",
      "Epoch 27/30\n",
      " - 133s - loss: 0.1266 - accuracy: 0.9774 - val_loss: 0.2193 - val_accuracy: 0.9575\n",
      "Epoch 28/30\n",
      " - 133s - loss: 0.1269 - accuracy: 0.9758 - val_loss: 0.0959 - val_accuracy: 0.9625\n",
      "Epoch 29/30\n",
      " - 133s - loss: 0.1277 - accuracy: 0.9769 - val_loss: 0.3229 - val_accuracy: 0.9625\n",
      "Epoch 30/30\n",
      " - 133s - loss: 0.1162 - accuracy: 0.9793 - val_loss: 0.4681 - val_accuracy: 0.9625\n",
      "Wall time: 1h 6min 27s\n"
     ]
    }
   ],
   "source": [
    "%%time\n",
    "H = model.fit_generator(generator=train_batches, steps_per_epoch=424, \n",
    "    validation_data=valid_batches, validation_steps=20, epochs=30, verbose=2)"
   ]
  },
  {
   "cell_type": "markdown",
   "metadata": {},
   "source": [
    "## Plot Graph"
   ]
  },
  {
   "cell_type": "code",
   "execution_count": 20,
   "metadata": {},
   "outputs": [
    {
     "data": {
      "image/png": "[encoded data removed]",
      "text/plain": [
       "<Figure size 720x432 with 1 Axes>"
      ]
     },
     "metadata": {},
     "output_type": "display_data"
    }
   ],
   "source": [
    "epochs = 30\n",
    "\n",
    "plt.style.use(\"ggplot\")\n",
    "plt.figure(figsize=(10,6))\n",
    "plt.plot(np.arange(0, epochs), H.history[\"loss\"], label=\"train_loss\", color='r')\n",
    "plt.plot(np.arange(0, epochs), H.history[\"val_loss\"], label=\"val_loss\", color='orange')\n",
    "plt.plot(np.arange(0, epochs), H.history[\"accuracy\"], label=\"train_acc\", color='b')\n",
    "plt.plot(np.arange(0, epochs), H.history[\"val_accuracy\"], label=\"val_acc\", color='green')\n",
    "plt.title(\"Training Loss and Accuracy\")\n",
    "plt.xlabel(\"Epochs\")\n",
    "plt.ylabel(\"Loss/Accuracy\")\n",
    "plt.legend(loc=\"upper right\")\n",
    "\n",
    "plt.savefig(\"plot.png\")"
   ]
  },
  {
   "cell_type": "markdown",
   "metadata": {},
   "source": [
    "## Testing"
   ]
  },
  {
   "cell_type": "code",
   "execution_count": 10,
   "metadata": {},
   "outputs": [],
   "source": [
    "test_labels = test_batches.classes"
   ]
  },
  {
   "cell_type": "code",
   "execution_count": 11,
   "metadata": {},
   "outputs": [
    {
     "name": "stdout",
     "output_type": "stream",
     "text": [
      "WARNING:tensorflow:From C:\\Users\\VR94\\anaconda3\\envs\\tf-gpu-cuda\\lib\\site-packages\\keras\\backend\\tensorflow_backend.py:422: The name tf.global_variables is deprecated. Please use tf.compat.v1.global_variables instead.\n",
      "\n"
     ]
    }
   ],
   "source": [
    "predictions = model.predict_generator(generator=test_batches, steps=10, verbose=0)"
   ]
  },
  {
   "cell_type": "code",
   "execution_count": 12,
   "metadata": {},
   "outputs": [
    {
     "name": "stdout",
     "output_type": "stream",
     "text": [
      "Confusion Matrix:\n",
      "[[90 10]\n",
      " [ 1 99]]\n",
      "\n",
      "Accuracy:0.945\n"
     ]
    }
   ],
   "source": [
    "cm = confusion_matrix(y_true=test_labels, y_pred=predictions.argmax(axis=1))\n",
    "print(f\"Confusion Matrix:\\n{cm}\")\n",
    "accuracy = asc(y_true=test_labels, y_pred=predictions.argmax(axis=1))\n",
    "print(f\"\\nAccuracy:{accuracy}\")"
   ]
  },
  {
   "cell_type": "markdown",
   "metadata": {},
   "source": [
    "## Save Model"
   ]
  },
  {
   "cell_type": "code",
   "execution_count": 24,
   "metadata": {},
   "outputs": [],
   "source": [
    "gender_json = model.to_json()\n",
    "with open(\"gender.json\",\"w\") as json_file:\n",
    "    json_file.write(gender_json)\n",
    "model.save_weights(\"gender_wts.h5\")"
   ]
  },
  {
   "cell_type": "markdown",
   "metadata": {},
   "source": [
    "## Load and Predict"
   ]
  },
  {
   "cell_type": "code",
   "execution_count": 7,
   "metadata": {},
   "outputs": [],
   "source": [
    "from keras.models import model_from_json"
   ]
  },
  {
   "cell_type": "code",
   "execution_count": 8,
   "metadata": {},
   "outputs": [],
   "source": [
    "model = model_from_json(open(\"gender.json\", \"r\").read())"
   ]
  },
  {
   "cell_type": "code",
   "execution_count": 9,
   "metadata": {},
   "outputs": [],
   "source": [
    "model.load_weights(\"gender_wts.h5\")"
   ]
  },
  {
   "cell_type": "code",
   "execution_count": 17,
   "metadata": {},
   "outputs": [
    {
     "data": {
      "text/plain": [
       "0.007120744"
      ]
     },
     "execution_count": 17,
     "metadata": {},
     "output_type": "execute_result"
    }
   ],
   "source": [
    "from PIL import Image\n",
    "from skimage import transform\n",
    "def load(filename):\n",
    "    np_image = Image.open(filename)\n",
    "    np_image = np.array(np_image).astype('float32')\n",
    "    np_image = transform.resize(np_image, (48, 48, 3))\n",
    "    np_image = np.expand_dims(np_image, axis=0)\n",
    "    return np_image\n",
    "\n",
    "image = load('test3.jpg')\n",
    "x = model.predict(image)[0][0]\n",
    "x"
   ]
  },
  {
   "cell_type": "markdown",
   "metadata": {},
   "source": [
    "## Confusion Matrix Visualization"
   ]
  },
  {
   "cell_type": "code",
   "execution_count": 13,
   "metadata": {},
   "outputs": [],
   "source": [
    "import matplotlib.pyplot as plt\n",
    "import numpy as np\n",
    "import itertools\n",
    "\n",
    "from sklearn.metrics import confusion_matrix"
   ]
  },
  {
   "cell_type": "code",
   "execution_count": 14,
   "metadata": {},
   "outputs": [],
   "source": [
    "def plot_confusion_matrix(cm, classes, normalize=False, title='Confusion matrix', cmap=plt.cm.Blues):\n",
    "    if normalize:\n",
    "        cm = cm.astype('float') / cm.sum(axis=1)[:, np.newaxis]\n",
    "        print(\"Normalized confusion matrix\")\n",
    "    else:\n",
    "        print('Confusion matrix, without normalization')\n",
    "\n",
    "    print(cm)\n",
    "    plt.imshow(cm, interpolation='nearest', cmap=cmap)\n",
    "    plt.title(title)\n",
    "    plt.colorbar()\n",
    "    tick_marks = np.arange(len(classes))\n",
    "    plt.xticks(tick_marks, classes, rotation=45)\n",
    "    plt.yticks(tick_marks, classes)\n",
    "\n",
    "    fmt = '.2f' if normalize else 'd'\n",
    "    thresh = cm.max() / 2.\n",
    "    for i, j in itertools.product(range(cm.shape[0]), range(cm.shape[1])):\n",
    "        plt.text(j, i, format(cm[i, j], fmt), horizontalalignment=\"center\", color=\"white\" if cm[i, j] > thresh else \"black\")\n",
    "\n",
    "    plt.tight_layout()\n",
    "    plt.ylabel('True label')\n",
    "    plt.xlabel('Predicted label')"
   ]
  },
  {
   "cell_type": "code",
   "execution_count": 15,
   "metadata": {},
   "outputs": [],
   "source": [
    "cm = confusion_matrix(test_labels, predictions.argmax(axis=1))"
   ]
  },
  {
   "cell_type": "code",
   "execution_count": 16,
   "metadata": {},
   "outputs": [
    {
     "name": "stdout",
     "output_type": "stream",
     "text": [
      "Normalized confusion matrix\n",
      "[[0.9  0.1 ]\n",
      " [0.01 0.99]]\n"
     ]
    },
    {
     "data": {
      "image/png": "[encoded data removed]",
      "text/plain": [
       "<Figure size 360x360 with 2 Axes>"
      ]
     },
     "metadata": {
      "needs_background": "light"
     },
     "output_type": "display_data"
    }
   ],
   "source": [
    "names = ('Female','Male')\n",
    "\n",
    "plt.figure(figsize=(5,5))\n",
    "plot_confusion_matrix(cm, names, normalize=True)"
   ]
  },
  {
   "cell_type": "code",
   "execution_count": null,
   "metadata": {},
   "outputs": [],
   "source": []
  }
 ],
 "metadata": {
  "kernelspec": {
   "display_name": "Python 3",
   "language": "python",
   "name": "python3"
  },
  "language_info": {
   "codemirror_mode": {
    "name": "ipython",
    "version": 3
   },
   "file_extension": ".py",
   "mimetype": "text/x-python",
   "name": "python",
   "nbconvert_exporter": "python",
   "pygments_lexer": "ipython3",
   "version": "3.6.10"
  }
 },
 "nbformat": 4,
 "nbformat_minor": 4
}
